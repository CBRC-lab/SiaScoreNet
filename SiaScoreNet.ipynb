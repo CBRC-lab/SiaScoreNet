{
  "nbformat": 4,
  "nbformat_minor": 0,
  "metadata": {
    "colab": {
      "provenance": []
    },
    "kernelspec": {
      "name": "python3",
      "display_name": "Python 3"
    },
    "language_info": {
      "name": "python"
    }
  },
  "cells": [
    {
      "cell_type": "code",
      "source": [
        "import pandas as pd\n",
        "import numpy as np\n",
        "from sklearn import metrics\n",
        "from sklearn.metrics import roc_auc_score, average_precision_score, f1_score, accuracy_score,precision_score,recall_score, matthews_corrcoef\n",
        "import pickle"
      ],
      "metadata": {
        "id": "sZUV7g8J0ilB"
      },
      "execution_count": 1,
      "outputs": []
    },
    {
      "cell_type": "code",
      "source": [
        "def BasePred(X_test,y_test):\n",
        "  #thresholds and base models performance\n",
        "  label = [[0, 1][i <= 500] for i in X_test['ann']]\n",
        "  print(\"Ann:\\nAcc: \",metrics.accuracy_score(label,y_test))\n",
        "  print('Recall:',metrics.recall_score(y_test, label))\n",
        "  print('Percision:',metrics.precision_score(y_test, label))\n",
        "  print('F1:',metrics.f1_score(y_test, label))\n",
        "  print('------------------------------------------')\n",
        "  label = [[0, 1][r <= 2] for r in X_test['consensus']]\n",
        "  print(\"consensus:\\nAcc: \", metrics.accuracy_score(label,y_test))\n",
        "  print('Recall:', metrics.recall_score(y_test, label))\n",
        "  print('Percision:', metrics.precision_score(y_test, label))\n",
        "  print('F1:', metrics.f1_score(y_test, label))\n",
        "  print('------------------------------------------')\n",
        "  label = [[0, 1][i <= 500] for i in X_test['netmhcpan_ba']]\n",
        "  print(\"netmhcpan_ba:\\nAcc:  \",metrics.accuracy_score(label,y_test))\n",
        "  print('Recall:',metrics.recall_score(y_test, label))\n",
        "  print('Percision:',metrics.precision_score(y_test, label))\n",
        "  print('F1:',metrics.f1_score(y_test, label))\n",
        "  print('------------------------------------------')\n",
        "  label = [[0, 1][score >= 0.5] for score in X_test['netmhcpan_el']]\n",
        "  print(\"netmhcpan_el:\\nAcc:  \",metrics.accuracy_score(label,y_test))\n",
        "  print('Recall:',metrics.recall_score(y_test, label))\n",
        "  print('Percision:',metrics.precision_score(y_test, label))\n",
        "  print('F1:',metrics.f1_score(y_test, label))\n",
        "  print('------------------------------------------')\n",
        "  label = [[0, 1][i <= 500] for i in X_test['smm']]\n",
        "  print(\"smm:\\nAcc:  \",metrics.accuracy_score(label,y_test))\n",
        "  print('Recall:',metrics.recall_score(y_test, label))\n",
        "  print('Percision:',metrics.precision_score(y_test, label))\n",
        "  print('F1:',metrics.f1_score(y_test, label))\n",
        "  print('------------------------------------------')\n",
        "  label = [[0, 1][i <= 500] for i in X_test['smmpmbec']]\n",
        "  print(\"smmpmbec:\\nAcc:  \",metrics.accuracy_score(label,y_test))\n",
        "  print('Recall:',metrics.recall_score(y_test, label))\n",
        "  print('Percision:',metrics.precision_score(y_test, label))\n",
        "  print('F1:',metrics.f1_score(y_test, label))\n",
        "  print('------------------------------------------')\n",
        "  label = [[0, 1][i <= 500] for i in X_test['pickpocket']]\n",
        "  print(\"pickpocket:\\nAcc:  \",metrics.accuracy_score(label,y_test))\n",
        "  print('Recall:',metrics.recall_score(y_test, label))\n",
        "  print('Percision:',metrics.precision_score(y_test, label))\n",
        "  print('F1:',metrics.f1_score(y_test, label))\n",
        "  print('------------------------------------------')\n",
        "  label = [[0, 1][i <= 500] for i in X_test['netmhccons']]\n",
        "  print(\"netmhccons:\\nAcc:  \",metrics.accuracy_score(label,y_test))\n",
        "  print('Recall:',metrics.recall_score(y_test, label))\n",
        "  print('Percision:',metrics.precision_score(y_test, label))\n",
        "  print('F1:',metrics.f1_score(y_test, label))\n",
        "  print('------------------------------------------')\n",
        "  label = [[0, 1][score >= 0.5] for score in X_test['netmhcstabpan']]\n",
        "  print(\"netmhcstabpan:\\nAcc:  \",metrics.accuracy_score(label,y_test))\n",
        "  print('Recall:',metrics.recall_score(y_test, label))\n",
        "  print('Percision:',metrics.precision_score(y_test, label))\n",
        "  print('F1:',metrics.f1_score(y_test, label))\n",
        "  print('------------------------------------------')"
      ],
      "metadata": {
        "id": "UFQRIsfLy9xa"
      },
      "execution_count": 2,
      "outputs": []
    },
    {
      "cell_type": "markdown",
      "source": [
        "##Evaluate the model on validation data"
      ],
      "metadata": {
        "id": "iP0Qtvt31Nxl"
      }
    },
    {
      "cell_type": "code",
      "source": [
        "X_test = pd.read_csv('ESM_test.csv').drop(columns=['peptide','HLA','Unnamed: 0'])\n",
        "y_test = pd.read_csv('label.csv').drop(columns=['Unnamed: 0'])"
      ],
      "metadata": {
        "id": "E-heUUZhzia5"
      },
      "execution_count": 17,
      "outputs": []
    },
    {
      "cell_type": "code",
      "source": [
        "#Other models\n",
        "BasePred(X_test,y_test)"
      ],
      "metadata": {
        "id": "WX_PD6VS0edk",
        "colab": {
          "base_uri": "https://localhost:8080/"
        },
        "outputId": "ae3d61d1-eb44-40fa-b5dd-62db3390f32d"
      },
      "execution_count": 18,
      "outputs": [
        {
          "output_type": "stream",
          "name": "stdout",
          "text": [
            "Ann:\n",
            "Acc:  0.8029618271325962\n",
            "Recall: 0.626408760290944\n",
            "Percision: 0.9740243599304002\n",
            "F1: 0.7624653402733862\n",
            "------------------------------------------\n",
            "consensus:\n",
            "Acc:  0.7996529739326931\n",
            "Recall: 0.619934457677244\n",
            "Percision: 0.9736379613356766\n",
            "F1: 0.757532841724862\n",
            "------------------------------------------\n",
            "netmhcpan_ba:\n",
            "Acc:   0.8309256718586071\n",
            "Recall: 0.6810806490288546\n",
            "Percision: 0.9770668501318656\n",
            "F1: 0.8026563677467973\n",
            "------------------------------------------\n",
            "netmhcpan_el:\n",
            "Acc:   0.8014688080058107\n",
            "Recall: 0.6140196626968268\n",
            "Percision: 0.98829280843947\n",
            "F1: 0.7574442910668507\n",
            "------------------------------------------\n",
            "smm:\n",
            "Acc:   0.7891211363086111\n",
            "Recall: 0.6391975061945488\n",
            "Percision: 0.9182454931679871\n",
            "F1: 0.7537229029217719\n",
            "------------------------------------------\n",
            "smmpmbec:\n",
            "Acc:   0.787264950367202\n",
            "Recall: 0.6316041883142834\n",
            "Percision: 0.9225919439579685\n",
            "F1: 0.7498576579996205\n",
            "------------------------------------------\n",
            "pickpocket:\n",
            "Acc:   0.7146315874424986\n",
            "Recall: 0.44792582527375907\n",
            "Percision: 0.9713988559542381\n",
            "F1: 0.613129102844639\n",
            "------------------------------------------\n",
            "netmhccons:\n",
            "Acc:   0.8217657977564361\n",
            "Recall: 0.6623771081448325\n",
            "Percision: 0.9772405660377359\n",
            "F1: 0.7895764851603068\n",
            "------------------------------------------\n",
            "netmhcstabpan:\n",
            "Acc:   0.8027197159228472\n",
            "Recall: 0.6420749740228598\n",
            "Percision: 0.9513263855992421\n",
            "F1: 0.7666905273204486\n",
            "------------------------------------------\n"
          ]
        }
      ]
    },
    {
      "cell_type": "code",
      "source": [
        "# load the model\n",
        "model = pickle.load(open('SiaScoreNet.pkl', 'rb'))"
      ],
      "metadata": {
        "id": "IX_IR7IF1UZ6"
      },
      "execution_count": 19,
      "outputs": []
    },
    {
      "cell_type": "code",
      "source": [
        "#SiaScoreNet\n",
        "X_test_ens =  X_test.iloc[:,:9].values\n",
        "X_test_peptide = X_test.iloc[:,9:329].values\n",
        "X_test_mhc = X_test.iloc[:,329:].values\n",
        "\n",
        "val_loss, val_accuracy = model.evaluate([X_test_peptide, X_test_mhc, X_test_ens], y_test)\n",
        "print(f'Validation accuracy: {val_accuracy:.4f}')\n",
        "y_pred = model.predict([X_test_peptide, X_test_mhc, X_test_ens])\n",
        "y_pred = y_pred.flatten()\n",
        "y_pred_c = np.where(y_pred > 0.5, 1, 0)\n",
        "\n",
        "test_roc_auc = roc_auc_score(y_test, y_pred)\n",
        "test_au_pr = average_precision_score(y_test, y_pred)\n",
        "test_mcc = matthews_corrcoef(y_test, y_pred_c)\n",
        "test_f1 = f1_score(y_test, y_pred_c)\n",
        "test_acc = accuracy_score(y_test, y_pred_c)\n",
        "\n",
        "print(f'Acc: {test_acc},  \\nF1: {test_f1}')\n",
        "print('Recall:',recall_score(y_test, y_pred_c))\n",
        "print('Percision:',precision_score(y_test, y_pred_c))"
      ],
      "metadata": {
        "id": "9XQPB7s3zjWb",
        "colab": {
          "base_uri": "https://localhost:8080/"
        },
        "outputId": "66c8326e-d56c-4d94-d958-b422cb42fc08"
      },
      "execution_count": 20,
      "outputs": [
        {
          "output_type": "stream",
          "name": "stdout",
          "text": [
            "\u001b[1m775/775\u001b[0m \u001b[32m━━━━━━━━━━━━━━━━━━━━\u001b[0m\u001b[37m\u001b[0m \u001b[1m2s\u001b[0m 2ms/step - accuracy: 0.9188 - loss: 0.2217\n",
            "Validation accuracy: 0.9216\n",
            "\u001b[1m775/775\u001b[0m \u001b[32m━━━━━━━━━━━━━━━━━━━━\u001b[0m\u001b[37m\u001b[0m \u001b[1m2s\u001b[0m 3ms/step\n",
            "Acc: 0.9215963199096118,  \n",
            "F1: 0.9214600428473261\n",
            "Recall: 0.911038286308049\n",
            "Percision: 0.932122996401701\n"
          ]
        }
      ]
    },
    {
      "cell_type": "code",
      "source": [],
      "metadata": {
        "id": "f7SzYesLMCaY"
      },
      "execution_count": null,
      "outputs": []
    }
  ]
}